{
 "cells": [
  {
   "cell_type": "markdown",
   "metadata": {},
   "source": [
    "# Berichtsheft – nanoServices Architektur & Stand (2024-08-02)\n",
    "\n",
    "**Projekt:** Entwicklung eines semantisch integrierten Microservices-Frameworks (nanoServices)\n",
    "\n",
    "---"
   ]
  },
  {
   "cell_type": "markdown",
   "metadata": {},
   "source": [
    "## Projektüberblick\n",
    "\n",
    "Das Ziel des nanoServices-Frameworks ist die Entwicklung einer semantisch integrierten Microservices-Plattform auf Basis von Apache Jena Fuseki (für RDF-Daten), Temporal (für Workflow-Orchestrierung), Supervisor (für Prozessmanagement), Docker (für Containerisierung) und weiteren Kernkomponenten. Das System zeichnet sich durch vollständige lose Kopplung, deklarative Selbstbeschreibung der Services sowie ein konsequentes Monitoring- und Logging-Konzept aus."
   ]
  },
  {
   "cell_type": "markdown",
   "metadata": {},
   "source": [
    "---\n",
    "\n",
    "## Kernkomponenten\n",
    "\n",
    "- **Fuseki:** Zentrale RDF-Datenhaltung, alle Service- und System-Metadaten werden hier im „Nanoversum“ abgelegt.\n",
    "- **Supervisor:** Prozessüberwachung, Steuerung und Logmanagement aller Worker-Prozesse.\n",
    "- **Config-Worker:** Nimmt Service-Registrierungen entgegen, verwaltet Policies (z. B. Logrotation), ist Ankerpunkt für System- und Monitoring-Workflows (inkl. Logrotation als Temporal-Task).\n",
    "- **Temporal:** Orchestriert alle System- und Business-Workflows, verwaltet History, Retries, Heartbeats etc.\n",
    "- **nanoservices-Frontend:** Zentrales Dashboard für Monitoring, Visualisierung und Steuerung.\n",
    "- **Docker:** Containerisierung sämtlicher Dienste, unterstützt durch einen eigenen „docker-worker“ zur Orchestrierung und Statusüberwachung.\n",
    "- **LodView/Lod4All:** Zusatztools für die Visualisierung und Abfrage von RDF-Daten, insbesondere in Entwicklungsumgebungen."
   ]
  },
  {
   "cell_type": "markdown",
   "metadata": {},
   "source": [
    "---\n",
    "\n",
    "## Datenflüsse und Verantwortlichkeiten\n"
   ]
  },
  {
   "cell_type": "markdown",
   "metadata": {},
   "source": [
    "| Komponente     | Aufgabe                                                   | Hauptspeicher   |\n",
    "|----------------|-----------------------------------------------------------|-----------------|\n",
    "| Supervisor     | Start/Stop/Monitoring, Logging von Prozessen              | Logfiles        |\n",
    "| Fuseki         | Alle Self-Descriptions, Snapshots, Policies, Relationen   | RDF             |\n",
    "| Config-Worker  | Registrierung, Heartbeat, Policy Mgmt, Logrotation        | RDF/Temporal    |\n",
    "| Temporal       | History, Scheduling, Retries, Workflows, Events           | Temporal DB     |\n",
    "| Docker-Worker  | Container-Status, Logs, Orchestrierung                    | Docker-API      |\n",
    "| Frontend       | Monitoring, Visualisierung, Steuerung                     | (über API)      |"
   ]
  },
  {
   "cell_type": "markdown",
   "metadata": {},
   "source": [
    "---\n",
    "\n",
    "## Logging und Logrotation\n",
    "\n",
    "Das System setzt auf strukturierte Logs im **JSON Lines**-Format, sowohl für Worker als auch für Supervisor-Prozesse.  \n",
    "Die Logrotation erfolgt zentral als **Temporal-Task** auf dem Config-Worker und wird gemäß definierter Policies (z. B. max Days/Size) durchgeführt.  \n",
    "Alle relevanten Logrotationen und -ereignisse werden als Events im RDF-Modell (Fuseki) dokumentiert."
   ]
  },
  {
   "cell_type": "markdown",
   "metadata": {},
   "source": [
    "---\n",
    "\n",
    "## Service-Registrierung und Self-Description\n",
    "\n",
    "Jeder neue Worker-Service meldet sich beim System zentral über einen Temporal-Workflow (`registerService`) mit seiner eigenen OWL-S/RDF-Selbstauskunft, Prozessstatus (Supervisor), sowie temporalen Daten (TaskQueues, Status) an.  \n",
    "Alle Informationen werden in Fuseki als Snapshot abgelegt, und optional werden regelmäßige Heartbeats für die Statusüberwachung verwendet."
   ]
  },
  {
   "cell_type": "markdown",
   "metadata": {},
   "source": [
    "---\n",
    "\n",
    "## Docker-Integration\n",
    "\n",
    "Ein dedizierter **docker-worker** macht sämtliche Container-, Log- und Statusdaten systemweit über eine REST-API zugänglich.  \n",
    "Auch die Logfiles der Container werden zentral und strukturiert bereitgestellt.  \n",
    "Volumes, Netzwerke und Images können ebenfalls im RDF-Modell abgebildet werden."
   ]
  },
  {
   "cell_type": "markdown",
   "metadata": {},
   "source": [
    "---\n",
    "\n",
    "## Frontend und Monitoring\n",
    "\n",
    "Das Main-Frontend bietet:\n",
    "- Live-Übersicht aller registrierten Worker und Services\n",
    "- Visualisierung von Logs, Heartbeats, Status und Fehlern\n",
    "- Service-Discovery und Anzeige der Self-Descriptions, Workflows/Activities\n",
    "- Integration mit Docker- und Supervisor-Statusdaten\n",
    "- Unterstützung von Dev-/Prod-Features (z. B. LODView für RDF-Browsing)"
   ]
  },
  {
   "cell_type": "markdown",
   "metadata": {},
   "source": [
    "---\n",
    "\n",
    "## Policies & RDF-Modell\n",
    "\n",
    "Systemweite Policies (z. B. für Logrotation, Heartbeat, Restart, Retention) werden als RDF-Vokabular beschrieben und versioniert im Fuseki-System abgelegt.  \n",
    "Dies ermöglicht deklarative Systemkonfiguration und transparente Auditierbarkeit aller Systemereignisse und Wartungsprozesse."
   ]
  },
  {
   "cell_type": "markdown",
   "metadata": {},
   "source": [
    "---\n",
    "\n",
    "## Offene ToDos / Nächste Schritte (Stand: 20240802)\n",
    "\n",
    "- Implementierung und Standardisierung der Worker-Registrierung per Temporal-Workflow\n",
    "- Vollständige Logrotation als Temporal-Task und Events im RDF\n",
    "- Ausbau des docker-worker zur systemweiten Überwachung und Steuerung aller Container\n",
    "- Weiterentwicklung des Main-Frontends mit Schwerpunkt auf Logs, Policies und Service-Discovery\n",
    "- Definition und Erweiterung des nano:-RDF-Vokabulars für Worker, Policies, Events und Systemrollen\n",
    "- Modellierung und erste Umsetzung eines User-/Rollen- und Berechtigungssystems (später, optional mit Solid)"
   ]
  },
  {
   "cell_type": "markdown",
   "metadata": {},
   "source": [
    "---\n",
    "\n",
    "## Ausblick\n",
    "\n",
    "Mit dieser Architektur wird ein vollständig lose gekoppeltes, robustes und deklarativ beschreibbares Microservice-Ökosystem geschaffen, das höchste Transparenz, Wartbarkeit und Erweiterbarkeit gewährleistet.  \n",
    "Alle wesentlichen Vorgänge und Komponenten sind nachvollziehbar dokumentiert, was auch langfristig die Weiterentwicklung und Integration neuer Services stark vereinfacht.\n",
    "\n",
    "---"
   ]
  }
 ],
 "metadata": {
  "kernelspec": {
   "display_name": "Python 3",
   "language": "python",
   "name": "python3"
  },
  "language_info": {
   "name": "python",
   "version": "3.x"
  }
 },
 "nbformat": 4,
 "nbformat_minor": 2
}
