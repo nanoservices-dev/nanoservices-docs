{
 "cells": [
  {
   "cell_type": "markdown",
   "metadata": {},
   "source": [
    "# URI-Mapping für Default Graph / Self-Description\n",
    "\n",
    "## Regel und Motivation\n",
    "\n",
    "Im nanoServices-System werden verschiedene URIs als *funktional äquivalent* behandelt: Sie liefern den Default Graph oder die Self-Description des Systems zurück.\n",
    "\n",
    "### Beispiele für gleichgestellte URIs:\n",
    "\n",
    "- `http://localhost:80/`\n",
    "- `http://localhost:80/default/`\n",
    "- `http://localhost:80/dataset/default`\n",
    "\n",
    "**Das ermöglicht:**\n",
    "- Mehr Usability (verschiedene Clients finden immer die Systembeschreibung)\n",
    "- Interoperabilität (kompatibel mit verschiedenen Tools und Linked Data-Prinzipien)\n",
    "- Abwärtskompatibilität für ältere oder alternative Pfad-Schemata\n",
    "\n",
    "Optional können diese Gleichsetzungen für Reasoner explizit gemacht werden (`owl:sameAs`)."
   ]
  },
  {
   "cell_type": "markdown",
   "metadata": {},
   "source": [
    "## Turtle-Mapping: owl:sameAs für Default Graph URIs\n",
    "\n",
    "```turtle\n",
    "@prefix owl: <http://www.w3.org/2002/07/owl#> .\n",
    "\n",
    "<http://localhost:80/>           owl:sameAs <http://localhost:80/default/> ,\n",
    "                                         <http://localhost:80/dataset/default> .\n",
    "# Alle drei URIs liefern die Self-Description bzw. den Default Graph zurück.\n",
    "```\n"
   ]
  },
  {
   "cell_type": "code",
   "metadata": {},
   "source": [
    "# Python/rdflib: Gleichgesetzte Default-Graph-URIs auslesen\n",
    "from rdflib import Graph, Namespace, URIRef\n",
    "\n",
    "owl = Namespace(\"http://www.w3.org/2002/07/owl#\")\n",
    "\n",
    "turtle = '''\n",
    "@prefix owl: <http://www.w3.org/2002/07/owl#> .\n",
    "<http://localhost:80/>           owl:sameAs <http://localhost:80/default/> ,\n",
    "                                         <http://localhost:80/dataset/default> .\n",
    "'''\n",
    "\n",
    "g = Graph()\n",
    "g.parse(data=turtle, format=\"turtle\")\n",
    "\n",
    "main_uri = URIRef(\"http://localhost:80/\")\n",
    "print(\"Alle als Default Graph gemappten URIs für:\", main_uri)\n",
    "for _, _, obj in g.triples((main_uri, owl.sameAs, None)):\n",
    "    print(\"  ==>\", obj)"
   ],
   "execution_count": null,
   "outputs": []
  },
  {
   "cell_type": "markdown",
   "metadata": {},
   "source": [
    "## Praktische Hinweise\n",
    "- Im Backend/API kann jede dieser URIs den selben Default Graph liefern\n",
    "- In RDF/OWL kann `owl:sameAs` oder (alternativ) HTTP-Redirect verwendet werden\n",
    "- In der Doku sollte die Gleichsetzung explizit erwähnt werden\n",
    "\n",
    "### Pattern für Implementierung:\n",
    "```python\n",
    "def resolve_default_graph(uri):\n",
    "    default_uris = [\n",
    "        \"http://localhost:80/\",\n",
    "        \"http://localhost:80/default/\",\n",
    "        \"http://localhost:80/dataset/default\"\n",
    "    ]\n",
    "    if uri in default_uris:\n",
    "        return \"default-graph-data\"\n",
    "    # ggf. weitere Logik für andere URIs...\n",
    "```\n"
   ]
  },
  {
   "cell_type": "markdown",
   "metadata": {},
   "source": [
    "> **Empfohlen:**\n",
    ">\n",
    "> - Explizit dokumentieren, dass verschiedene URIs denselben Default Graph liefern\n",
    "> - Optional in RDF mit `owl:sameAs` deklarieren\n",
    "> - In der API auf alle diese URIs gleich reagieren (Routing/Mapping)\n"
   ]
  }
 ],
 "metadata": {
  "kernelspec": {
   "display_name": "Python 3",
   "language": "python",
   "name": "python3"
  },
  "language_info": {
   "name": "python",
   "version": ""
  }
 },
 "nbformat": 4,
 "nbformat_minor": 2
}

