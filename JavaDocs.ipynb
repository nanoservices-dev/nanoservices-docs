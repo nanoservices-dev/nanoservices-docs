{
 "cells": [
  {
   "cell_type": "markdown",
   "metadata": {},
   "source": [
    "# JavaDoc Cheat-Sheet\n",
    "\n",
    "## 1. Grundstruktur\n",
    "\n",
    "```java\n",
    "/**\n",
    " * Kurzbeschreibung.\n",
    " *\n",
    " * Längere Beschreibung. Trenne Absätze mit <p>.\n",
    " * <p>\n",
    " * Beispiel: Nutze HTML-Tags für Formatierung oder Listen:\n",
    " * <ul>\n",
    " *   <li>Erster Punkt</li>\n",
    " *   <li>Zweiter Punkt</li>\n",
    " * </ul>\n",
    " *\n",
    " * @param name   Beschreibung des Parameters\n",
    " * @return       Beschreibung des Rückgabewerts\n",
    " * @throws       Beschreibung der Exception\n",
    " * @see         Referenz auf andere Klassen oder Methoden\n",
    " */\n",
    "```\n"
   ]
  },
  {
   "cell_type": "markdown",
   "metadata": {},
   "source": [
    "## 2. Wichtige Tags & Beispiele\n",
    "\n",
    "| Tag        | Bedeutung                               | Beispiel                                 |\n",
    "|------------|-----------------------------------------|------------------------------------------|\n",
    "| `@param`   | Parameterbeschreibung                   | `@param info Information zum Service`     |\n",
    "| `@return`  | Rückgabewertbeschreibung                | `@return Liefert das Ergebnis zurück`     |\n",
    "| `@throws`  | Exceptions/Fehler                       | `@throws IOException bei Fehlern`         |\n",
    "| `@see`     | Verweis auf Klasse/Methode              | `@see #process` oder `@see Resource`      |\n",
    "| `@link`    | Inline-Link zu Klasse/Methode/Feld      | `Siehe {@link #resource}`                 |\n",
    "| `@code`    | Code-Snippet                            | `{@code NanoServiceMessage}`              |\n",
    "| `@deprecated` | Kennzeichnet veraltete Methoden      | `@deprecated Nicht mehr verwenden!`       |\n",
    "\n",
    "### Interne Links:\n",
    "- Feld: `{@link #fieldName}`\n",
    "- Methode: `{@link #methodName}`\n",
    "- Andere Klasse: `{@link package.ClassName}`\n"
   ]
  },
  {
   "cell_type": "markdown",
   "metadata": {},
   "source": [
    "## 3. Formatierung\n",
    "\n",
    "- **Absatz:** `<p>`\n",
    "- **Fett:** `<b>Text</b>`\n",
    "- **Kursiv:** `<i>Text</i>`\n",
    "- **Code:** `<code>Text</code>` oder `{@code ...}`\n",
    "- **Listen:** `<ul><li>Punkt 1</li><li>Punkt 2</li></ul>`\n",
    "- **Links:**\n",
    "  - Inline: `Siehe {@link #getInformation()}`\n",
    "  - Extern: `<a href=\"https://nanoservices.dev\">nanoservices.dev</a>`\n"
   ]
  },
  {
   "cell_type": "markdown",
   "metadata": {},
   "source": [
    "## 4. Best Practices\n",
    "\n",
    "- Immer mit Großbuchstaben beginnen, mit Punkt beenden.\n",
    "- Konsistente Sprache (Englisch üblich, aber projektabhängig).\n",
    "- Möglichst knapp, aber verständlich.\n",
    "- Für öffentliche APIs: verständlich für Außenstehende!\n",
    "- Abschnitte mit `<p>` trennen für bessere Lesbarkeit.\n",
    "- Methoden/Felder/Parameter immer dokumentieren.\n"
   ]
  },
  {
   "cell_type": "markdown",
   "metadata": {},
   "source": [
    "## 5. Beispiel\n",
    "\n",
    "```java\n",
    "/**\n",
    " * Processes an input graph and returns a transformed graph.\n",
    " * <p>\n",
    " * Uses the {@link #resource} for context.\n",
    " *\n",
    " * @param inputGraph Input data as RDF graph.\n",
    " * @return Resulting graph after processing.\n",
    " * @throws IllegalArgumentException If input is invalid.\n",
    " * @see #getInformation()\n",
    " */\n",
    "public Graph process(Graph inputGraph) { ... }\n",
    "```\n"
   ]
  }
 ],
 "metadata": {
  "kernelspec": {
   "display_name": "Python 3",
   "language": "python",
   "name": "python3"
  },
  "language_info": {
   "name": "python",
   "version": ""
  }
 },
 "nbformat": 4,
 "nbformat_minor": 2
}
