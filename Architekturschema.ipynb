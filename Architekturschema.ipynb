{
 "cells": [
  {
   "cell_type": "markdown",
   "metadata": {},
   "source": [
    "# nanoServices Architektur-Schema (2025)\n",
    "\n",
    "Dieses Notebook fasst die aktuelle Architektur der nanoServices-Plattform zusammen:\n",
    "- Ontologie-Prinzipien\n",
    "- System-/Service-Struktur\n",
    "- Flexibles Pattern für Erweiterungen\n",
    "\n",
    "___"
   ]
  },
  {
   "cell_type": "markdown",
   "metadata": {},
   "source": [
    "## 1. Grundprinzipien\n",
    "\n",
    "- **Axiomatisch:** Vorhandene Ontologien werden genutzt oder erweitert, nicht ersetzt.\n",
    "- **Plug & Play:** Neue Services, Operationen und Groundings sind sofort nutzbar – keine zentrale Liste muss gepflegt werden.\n",
    "- **Instanzen (klein), Typen (groß):** Case-Sensitivity für klare Trennung in Instanz & Klasse.\n",
    "- **URIs & URNs:** Ressourcen, Services und Operationen sind als URNs oder HTTP-URIs eindeutig referenzierbar.\n",
    "\n",
    "___"
   ]
  },
  {
   "cell_type": "markdown",
   "metadata": {},
   "source": [
    "## 2. Ontologie-Basis (Turtle)\n",
    "\n",
    "```turtle\n",
    "@prefix nano: <http://nanoservices.dev/ns#> .\n",
    "@prefix owl:  <http://www.w3.org/2002/07/owl#> .\n",
    "@prefix rdfs: <http://www.w3.org/2000/01/rdf-schema#> .\n",
    "\n",
    "nano:System a owl:Class .\n",
    "nano:Service a owl:Class .\n",
    "nano:ApiOperation a owl:Class .\n",
    "\n",
    "nano:hasApiOperation a owl:ObjectProperty ;\n",
    "    rdfs:domain nano:Service ;\n",
    "    rdfs:range nano:ApiOperation .\n",
    "\n",
    "nano:SupervisorService a owl:Class ;\n",
    "    rdfs:subClassOf nano:Service .\n",
    "\n",
    "nano:ApiGrounding a owl:Class .\n",
    "nano:TemporalApiGrounding a owl:Class ;\n",
    "    rdfs:subClassOf nano:ApiGrounding .\n",
    "```\n",
    "\n",
    "___"
   ]
  },
  {
   "cell_type": "markdown",
   "metadata": {},
   "source": [
    "## 3. Beispiel für Instanzstruktur\n",
    "\n",
    "```turtle\n",
    "<urn:jojo:system> a nano:System .\n",
    "<urn:jojo:supervisor> a nano:SupervisorService ;\n",
    "    nano:belongsToSystem <urn:jojo:system> ;\n",
    "    nano:hasApiGrounding <urn:jojo:supervisorGrounding> ;\n",
    "    nano:hasApiOperation <urn:jojo:deleteProcess> .\n",
    "\n",
    "<urn:jojo:supervisorGrounding> a nano:TemporalApiGrounding ;\n",
    "    nano:basePath \"http://localhost:9001/RPC2\" ;\n",
    "    nano:temporalTaskQueue \"SUPERVISOR_TASKS\" .\n",
    "\n",
    "<urn:jojo:deleteProcess> a nano:ApiOperation .\n",
    "```\n",
    "\n",
    "___"
   ]
  },
  {
   "cell_type": "markdown",
   "metadata": {},
   "source": [
    "## 4. Offenheit und Erweiterbarkeit\n",
    "\n",
    "- **Jeder Service kann Subklasse von `nano:Service` sein,**\n",
    "  ohne dass die Property-Domain angepasst werden muss.\n",
    "- **ApiOperation** kann für beliebige neue Prozesse/Workflows erweitert werden.\n",
    "- **Groundings (Temporal, REST, OWL-S ...)** können als eigene Subklassen definiert werden.\n",
    "\n",
    "___"
   ]
  },
  {
   "cell_type": "markdown",
   "metadata": {},
   "source": [
    "## 5. Best Practice\n",
    "\n",
    "- **Domain von `nano:hasApiOperation` bleibt immer `nano:Service`.**\n",
    "- Subklassen- und Instanzstruktur ist nicht „zentral“ verwaltet: Jede Erweiterung ist sofort produktiv.\n",
    "- URIs und URNs für maximale Interoperabilität und Nachvollziehbarkeit.\n",
    "- Kompatibel mit RDF/OWL Reasonern, SPARQL und allen gängigen Triple Stores.\n",
    "\n",
    "___\n",
    "\n",
    "### Für eigene Erweiterungen einfach analog Subklassen, Instanzen und Properties anlegen!\n"
   ]
  }
 ],
 "metadata": {
  "kernelspec": {
   "display_name": "Python 3",
   "language": "python",
   "name": "python3"
  },
  "language_info": {
   "name": "python",
   "version": ""
  }
 },
 "nbformat": 4,
 "nbformat_minor": 2
}
