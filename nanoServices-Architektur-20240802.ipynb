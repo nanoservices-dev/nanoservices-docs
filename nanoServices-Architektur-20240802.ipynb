{
 "cells": [
  {
   "cell_type": "markdown",
   "metadata": {},
   "source": [
    "# nanoServices-Architektur (Stand: 2024-08-02)\n",
    "**Autor:** Christian Finkbeiner, NanoTeam\n",
    "\n",
    "---\n",
    "\n",
    "## 1. Überblick\n",
    "\n",
    "Vollständig lose gekoppeltes, semantisch integriertes Microservices-Framework  \n",
    "auf Basis von Temporal, Fuseki, Supervisor und Docker.\n",
    "\n",
    "- **Fuseki**: Single Source of Truth für alle RDF-Daten, Self-Descriptions, Policies, Snapshots\n",
    "- **Supervisor**: Prozessmanagement, Logging, Monitoring\n",
    "- **Config-Worker**: Registry, Policy-Manager, Temporal-Workflows, Logrotate, Frontend\n",
    "- **Docker**: Containerisierung, Service-Lifecycle, Status/Logs via Docker-Worker\n",
    "- **Temporal**: Orchestrierung aller System-/Business-Workflows, History, Heartbeats\n",
    "\n",
    "*Datum immer im Format YYYYMMDD!*\n"
   ]
  },
  {
   "cell_type": "markdown",
   "metadata": {},
   "source": [
    "---\n",
    "\n",
    "## 2. Java-Code mit JavaDoc-Kommentaren"
   ]
  },
  {
   "cell_type": "code",
   "execution_count": null,
   "metadata": {
    "language": "java"
   },
   "outputs": [],
   "source": [
    "/**\n",
    " * NanoServiceWorker\n",
    " *\n",
    " * Repräsentiert einen Worker-Service im nanoServices-Framework.\n",
    " * \n",
    " * @author  NanoTeam\n",
    " * @since   20240802\n",
    " */\n",
    "public interface NanoServiceWorker {\n",
    "    /**\n",
    "     * Registriert den Worker im System.\n",
    "     * @param selfDescription OWL-S/RDF Self-Description des Services\n",
    "     * @return RegistrationResult\n",
    "     */\n",
    "    RegistrationResult registerService(String selfDescription);\n",
    "\n",
    "    /**\n",
    "     * Sendet regelmäßigen Heartbeat zur Statusüberwachung.\n",
    "     * @param serviceId ID des registrierten Services\n",
    "     */\n",
    "    void sendHeartbeat(String serviceId);\n",
    "}\n"
   ]
  },
  {
   "cell_type": "markdown",
   "metadata": {},
   "source": [
    "---\n",
    "\n",
    "## 3. Turtle/RDF-Beispiel für Worker"
   ]
  },
  {
   "cell_type": "code",
   "execution_count": null,
   "metadata": {
    "language": "turtle"
   },
   "outputs": [],
   "source": [
    "@prefix nano: <http://dev.nanoservices.org/nano#> .\n",
    "@prefix xsd: <http://www.w3.org/2001/XMLSchema#> .\n",
    "\n",
    "nano:worker-42\n",
    "  a nano:Worker ;\n",
    "  nano:hasWorkerType nano:PermanentWorker ;\n",
    "  nano:hasSelfDescription <urn:service-owl:FusekiQuery> ;\n",
    "  nano:providesWorkflow nano:FusekiQueryWorkflow ;\n",
    "  nano:heartbeatInterval \"30\"^^xsd:int ;\n",
    "  nano:lastHeartbeat \"2024-08-02T14:00:00Z\"^^xsd:dateTime ;\n",
    "  nano:hasStatus \"alive\" .\n"
   ]
  },
  {
   "cell_type": "markdown",
   "metadata": {},
   "source": [
    "---\n",
    "\n",
    "## 4. Logging & Logrotation\n",
    "\n",
    "- Logs werden im JSON Lines-Format gespeichert (`logs/<worker>.<YYYY-MM-DD>.log`)\n",
    "- Logrotation erfolgt als Temporal-Task via Config-Worker (z. B. täglich, maxSize/maxDays)\n",
    "- Alle Logrotationen werden als nano:LogRotationEvent im RDF (Fuseki) dokumentiert\n",
    "\n",
    "**Beispiel-Logrotation-Policy:**"
   ]
  },
  {
   "cell_type": "code",
   "execution_count": null,
   "metadata": {
    "language": "turtle"
   },
   "outputs": [],
   "source": [
    "nano:logrotate-policy-1\n",
    "    a nano:LogRotationPolicy ;\n",
    "    nano:maxDays \"7\"^^xsd:int ;\n",
    "    nano:maxSize \"100\"^^xsd:int ;\n",
    "    nano:enabled true .\n"
   ]
  },
  {
   "cell_type": "markdown",
   "metadata": {},
   "source": [
    "---\n",
    "\n",
    "## 5. ToDos (mit Zeitstempel YYYYMMDD)\n",
    "\n",
    "- [ ] Worker-Registrierung per Temporal-Workflow finalisieren\n",
    "- [ ] Logrotation als Temporal-Task implementieren\n",
    "- [ ] docker-worker API als System-Bridge fertigstellen\n",
    "- [ ] nano:Vokabular für Policies/Events ergänzen\n",
    "- [ ] Main-Frontend mit Log- und Policy-Viewer ausbauen\n"
   ]
  },
  {
   "cell_type": "markdown",
   "metadata": {},
   "source": [
    "---\n",
    "\n",
    "## 6. Policies & RDF-Modellierung\n",
    "\n",
    "*Hier werden alle System-Policies als RDF-Modelle mit Kommentaren und Beispiel-Snippets gepflegt.*\n",
    "\n",
    "---\n",
    "\n",
    "## 7. Diagramme & Architektur-Skizzen\n",
    "\n",
    "*Hier kannst du mit Mermaid, PlantUML oder Screenshots arbeiten.*\n",
    "\n",
    "```mermaid\n",
    "graph LR\n",
    "    FUSEKI[Fuseki] --> FRONTEND[Main-Frontend]\n",
    "    CFG[Config-Worker] --> FUSEKI\n",
    "    SUP[Supervisor] --> FUSEKI\n",
    "    DOCKERW[Docker-Worker] --> FRONTEND\n",
    "    TEMP[Temporal] --> CFG\n",
    "```\n",
    "\n",
    "---\n",
    "\n",
    "## 8. Changelog\n",
    "\n",
    "- 20240802: Grundstruktur, Logging, Logrotation, Policies, Worker-Registrierung aufgenommen\n"
   ]
  }
 ],
 "metadata": {
  "kernelspec": {
   "display_name": "Java",
   "language": "java",
   "name": "java"
  },
  "language_info": {
   "name": "java"
  }
 },
 "nbformat": 4,
 "nbformat_minor": 2
}
