{
 "cells": [
  {
   "cell_type": "markdown",
   "metadata": {},
   "source": [
    "# Git Repo Cleanup: Entfernen großer Dateien mit BFG\n",
    "\n",
    "Dieses Notebook beschreibt Schritt für Schritt, wie du versehentlich committete große Dateien (z.\\u00a0B. JARs oder den `target/`-Ordner) aus deiner Git-Historie entfernen kannst.\n",
    "\n",
    "## 1. Ausgangslage\n",
    "- Du hast gro\\u00dfe Dateien (z.B. JARs) in dein Repo committet.\n",
    "- Ein `git push` h\\u00e4ngt, das Repo ist zu gro\\u00df.\n",
    "- Auch nach L\\u00f6schen und .gitignore sind die Daten in der History und bremsen alles aus."
   ]
  },
  {
   "cell_type": "markdown",
   "metadata": {},
   "source": [
    "## 2. Die schlimmsten Dateien finden\n",
    "Das hilft dir zu sehen, was die Repo-Gr\\u00f6\\u00dfe treibt:\n",
    "```bash\n",
    "git rev-list --objects --all | \\\n",
    "  git cat-file --batch-check='%(objecttype) %(objectname) %(objectsize) %(rest)' | \\\n",
    "  grep ^blob | sort -k3nr | head -10\n",
    "```\n",
    "Das gibt dir die gr\\u00f6\\u00dften Dateien mit SHA und Pfad."
   ]
  },
  {
   "cell_type": "markdown",
   "metadata": {},
   "source": [
    "## 3. .gitignore anpassen\n",
    "Damit du nie wieder versehentlich solche Dateien ins Repo bekommst:\n",
    "```bash\n",
    "echo \"target/\" >> .gitignore\n",
    "echo \"*.jar\"   >> .gitignore\n",
    "git add .gitignore\n",
    "git commit -m \"Add target/ and *.jar to .gitignore\"\n",
    "```\n",
    "Optional: L\\u00f6sche schon getrackte Dateien aus dem Repo:\n",
    "```bash\n",
    "git rm --cached -r target/\n",
    "git rm --cached *.jar\n",
    "git commit -m \"Remove binaries and target folder from repo\"\n",
    "```"
   ]
  },
  {
   "cell_type": "markdown",
   "metadata": {},
   "source": [
    "## 4. BFG Repo-Cleaner installieren\n",
    "Auf macOS (Homebrew):\n",
    "```bash\n",
    "brew install bfg\n",
    "```\n",
    "Oder von https://rtyley.github.io/bfg-repo-cleaner/"
   ]
  },
  {
   "cell_type": "markdown",
   "metadata": {},
   "source": [
    "## 5. BFG Repo Cleaner ausf\\u00fchren\n",
    "Dateien wie JARs aus der gesamten Git-Historie entfernen:\n",
    "```bash\n",
    "bfg --delete-files \"*.jar\"\n",
    "```\n",
    "Build-Ordner wie `target/` komplett entfernen:\n",
    "```bash\n",
    "bfg --delete-folders \"target\" --no-blob-protection\n",
    "```\n",
    "Danach **Git-Garbage-Collection** ausf\\u00fchren:\n",
    "```bash\n",
    "git reflog expire --expire=now --all && git gc --prune=now --aggressive\n",
    "```\n",
    "\n",
    "> \\u274c **Warnung:** Danach ist die History ge\\u00e4ndert \\u2013 du musst mit `--force` pushen und alle Entwickler brauchen ein frisches Clone!"
   ]
  },
  {
   "cell_type": "markdown",
   "metadata": {},
   "source": [
    "## 6. Force Push zum Bereinigen des Remotes\n",
    "```bash\n",
    "git push --force\n",
    "```\n",
    "\n",
    "Fertig! Die dicken Dateien sind wirklich raus."
   ]
  },
  {
   "cell_type": "markdown",
   "metadata": {},
   "source": [
    "## 7. Nacharbeiten: Lokale Repos von anderen Entwicklern\n",
    "**Warnung:** Wer das Repo lokal schon hat, sollte jetzt am besten einmal neu clonen:\n",
    "```bash\n",
    "mv dein-altes-repo dein-altes-repo_backup\n",
    "git clone git@github.com:deine-org/dein-repo.git\n",
    "```\n",
    "Falls jemand trotzdem \"weiterarbeitet\":\n",
    "```bash\n",
    "git fetch\n",
    "git reset --hard origin/main\n",
    "```"
   ]
  },
  {
   "cell_type": "markdown",
   "metadata": {},
   "source": [
    "## 8. Git LFS \\u2013 Besser f\\u00fcr Bin\\u00e4rdaten\n",
    "- F\\u00fcr Bin\\u00e4rdaten wie JARs, Bilder, Modelle etc. **immer Git LFS verwenden**.\n",
    "- Siehe: https://git-lfs.github.com/\n",
    "- Installieren:\n",
    "    ```bash\n",
    "    brew install git-lfs\n",
    "    git lfs install\n",
    "    git lfs track \"*.jar\"\n",
    "    git add .gitattributes\n",
    "    ```\n",
    "- Gro\\u00dfe Dateien landen dann **nicht mehr** in der Git-History."
   ]
  },
  {
   "cell_type": "markdown",
   "metadata": {},
   "source": [
    "# Normaler Git → GitHub Workflow via CLI\n",
    "\n",
    "## 1. Initialisierung eines neuen Git-Repositories (falls noch nicht geschehen)\n",
    "```bash\n",
    "git init\n",
    "git add .\n",
    "git commit -m \"Initial commit\"\n",
    "```\n",
    "\n",
    "## 2. Remote Repository hinzufügen\n",
    "```bash\n",
    "git remote add origin git@github.com:<Organisation>/<Repository>.git\n",
    "```\n",
    "Ersetze `<Organisation>` und `<Repository>` durch deine Werte.\n",
    "\n",
    "## 3. Push zum Remote und Upstream setzen\n",
    "```bash\n",
    "git push -u origin main\n",
    "```\n",
    "\n",
    "## 4. Arbeiten an der Codebasis\n",
    "Änderungen hinzufügen, committen und pushen:\n",
    "```bash\n",
    "git add <datei/ordner>\n",
    "git commit -m \"Beschreibung der Änderungen\"\n",
    "git push\n",
    "```\n",
    "\n",
    "## 5. Von Remote Änderungen holen und mergen\n",
    "```bash\n",
    "git pull\n",
    "```\n",
    "\n",
    "## 6. Branch wechseln oder neuen Branch anlegen\n",
    "```bash\n",
    "git checkout -b feature/mein-feature\n",
    "```\n",
    "\n",
    "## 7. SSH-Key Check (optional, falls Authentifizierungsprobleme)\n",
    "```bash\n",
    "ssh -T git@github.com\n",
    "```\n",
    "Meldung sollte sein: \"Hi username! You've successfully authenticated...\"\n",
    "\n",
    "## 8. SSH Key mit GitHub verknüpfen (falls noch nicht geschehen)\n",
    "- SSH-Key generieren:\n",
    "  ```bash\n",
    "  ssh-keygen -t ed25519 -C \"deine.email@domain.com\"\n",
    "  ```\n",
    "- Öffne den Inhalt von `~/.ssh/id_ed25519.pub` und füge den Key in GitHub unter `Settings -> SSH and GPG keys` hinzu.\n",
    "\n",
    "---\n",
    "\n",
    "**Fertig!** Damit hast du alle typischen Git- und GitHub-CLI-Befehle beisammen."
   ]
  }
 ],
 "metadata": {
  "kernelspec": {
   "display_name": "Bash",
   "language": "bash",
   "name": "bash"
  },
  "language_info": {
   "name": "bash"
  }
 },
 "nbformat": 4,
 "nbformat_minor": 2
}
