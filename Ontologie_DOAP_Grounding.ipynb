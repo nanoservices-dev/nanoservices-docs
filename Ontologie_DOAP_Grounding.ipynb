{
 "cells": [
  {
   "cell_type": "markdown",
   "metadata": {},
   "source": [
    "# Semantische Beschreibung von Software-Artefakten (JARs) & POMs\n",
    "\n",
    "## 1. Gibt es eine \"Ontologie für die pom.xml\"?\n",
    "\n",
    "- **Nein, es gibt keine offizielle RDF/OWL-Ontologie für pom.xml als Standard**\n",
    "- Es gibt aber RDF-Vokabulare für Software-Projekte und Builds, z.B.:\n",
    "  - [DOAP](http://usefulinc.com/ns/doap#) (Description of a Project)\n",
    "  - [schema.org/SoftwareSourceCode](https://schema.org/SoftwareSourceCode)\n",
    "  - [SPDX](https://spdx.dev/)\n",
    "  \n",
    "## 2. Was beschreibt DOAP?\n",
    "\n",
    "- Software-Projekt, Releases, Maintainer, Versionen, Repository etc.\n",
    "- **Aber:** Kein Property für konkrete Deploy-Artefakte wie JARs/WARs/ZIPs\n",
    "\n",
    "## 3. Wie kann ich ein konkretes Deploy-Artefakt semantisch beschreiben?\n",
    "\n",
    "- DOAP + eigene Property (z.B. `nano:artifact` oder `nano:jarFile`)\n",
    "- Optional: schema.org/SoftwareSourceCode mit `downloadUrl`\n",
    "\n",
    "## 4. Minimalbeispiel: DOAP + nano:artifact\n"
   ]
  },
  {
   "cell_type": "code",
   "metadata": {},
   "source": [
    "# Turtle: Projekt & Artefaktbeschreibung\n",
    "\n",
    "@prefix doap: <http://usefulinc.com/ns/doap#> .\n",
    "@prefix nano: <http://nanoservices.dev/ont#> .\n",
    "\n",
    ":nanoservices-supervisor-worker-1.0.2\n",
    "    a doap:Project ;\n",
    "    doap:name \"Supervisor Worker\" ;\n",
    "    doap:release [\n",
    "        doap:revision \"1.0.2\"\n",
    "    ] ;\n",
    "    doap:repository [ doap:location <https://github.com/nanoservices-dev/nanoservices-supervisor-worker> ] ;\n",
    "    nano:artifact <https://github.com/nanoservices-dev/nanoservices-supervisor-worker/releases/download/v1.0.2/nanoservices-supervisor-worker-1.0.2.jar> ."
   ],
   "execution_count": null,
   "outputs": []
  },
  {
   "cell_type": "markdown",
   "metadata": {},
   "source": [
    "## 5. Mapping pom.xml → RDF\n",
    "\n",
    "- Felder wie `${project.artifactId}`, `${project.version}`, `${project.build.finalName}.jar` können direkt via **Maven Resource Filtering** oder Build-Skript ersetzt werden\n",
    "- Ziel: Ein RDF-File je Service, das automatisch mitgebaut wird!\n",
    "\n",
    "## 6. Alternativen\n",
    "\n",
    "- schema.org/SoftwareSourceCode → `downloadUrl` (Web/SEO, weniger etabliert für Linked Data)\n",
    "- SPDX für Lizenz/Compliance, selten für konkrete Deployments in Java genutzt\n",
    "\n",
    "## 7. Fazit\n",
    "\n",
    "- **DOAP ist der semantische Quasi-Standard für Software-Projekte**\n",
    "- **Für JARs/Deploy-Artefakte**: Eigene Property definieren (z.B. `nano:artifact`)\n",
    "- **Automatisiere die Erzeugung aus pom.xml!**\n",
    "- _Das Ergebnis ist maschinenlesbar, auditierbar und FAIR._"
   ]
  }
 ],
 "metadata": {
  "kernelspec": {
   "display_name": "Markdown",
   "language": "markdown",
   "name": "markdown"
  },
  "language_info": {
   "name": "markdown"
  }
 },
 "nbformat": 4,
 "nbformat_minor": 2
}
