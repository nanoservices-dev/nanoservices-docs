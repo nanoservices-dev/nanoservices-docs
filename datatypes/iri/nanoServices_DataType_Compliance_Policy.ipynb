{
 "cells": [
  {
   "cell_type": "markdown",
   "id": "1bc238c8",
   "metadata": {},
   "source": [
    "# nanoServices Data Type Compliance Policy\n",
    "*Generated: 2025-08-14 10:18:17 UTC*\n",
    "\n",
    "This notebook documents the compliance rules for **data types** in the nanoServices core ontology and their use in Java/Jena boundaries.\n"
   ]
  },
  {
   "cell_type": "markdown",
   "id": "4f18464b",
   "metadata": {},
   "source": [
    "## Scope\n",
    "This policy covers:\n",
    "- Unicode strings (`xsd:string`, Java `String`), including serialization encodings.\n",
    "- Identifiers (`uid`/`pid`) via `nano:UniqueIdentifier`.\n",
    "- Numeric weights via `nano:UnitInterval` (e.g., `priority`, `entropy`).\n",
    "- RDF Resource handling (IRI vs Blank Node) at the Java ↔️ Jena adapter boundary.\n"
   ]
  },
  {
   "cell_type": "markdown",
   "id": "e684424e",
   "metadata": {},
   "source": [
    "## Decision Summary (authoritative)\n",
    "- **Unicode everywhere**: Java `String` and `xsd:string` carry Unicode. All serializations use **UTF‑8**.\n",
    "- **Identifiers (`uid`, `pid`)**:\n",
    "  - Datatype: **`nano:UniqueIdentifier`** = `xsd:token` with pattern `[^ \\t\\r\\n]+` (no whitespace).\n",
    "  - Exactly one per class: `Port(uid)`, `Process(pid)` via `owl:FunctionalProperty` + `owl:hasKey` + OWL cardinality 1.\n",
    "  - **Empty string is forbidden**. If absent in the domain model, treat as `null`.\n",
    "- **Numeric weights** (`priority`, `entropy`): **`nano:UnitInterval`** (decimal in **[0, 1]** inclusive).\n",
    "- **RDF Resources**:\n",
    "  - Domain model uses **`String`** for resource identifiers.\n",
    "  - Adapter to Jena:\n",
    "    - `null` ⇒ create **fresh Blank Node** (`ResourceFactory.createResource()`).\n",
    "    - non-empty string ⇒ **IRI** (`ResourceFactory.createResource(value)`).\n",
    "    - empty string `\"\"` ⇒ **invalid** (reject before adapter).\n",
    "- **No “has*” requirement**: Property names are relational/verb-like; compliance is about **ranges and cardinality**, not naming.\n"
   ]
  },
  {
   "cell_type": "markdown",
   "id": "8ae80036",
   "metadata": {},
   "source": [
    "## Type Matrix\n",
    "| Concept | RDF/XSD Datatype | Value Space & Constraints | Notes |\n",
    "|---|---|---|---|\n",
    "| Text (labels, comments) | `xsd:string` | Unicode, any scalar value | Serialized as UTF‑8 |\n",
    "| Unique Identifier (`uid`, `pid`) | `nano:UniqueIdentifier` | `xsd:token` with pattern `[^ \\t\\r\\n]+` (no whitespace) | Exactly one per Port/Process |\n",
    "| Numeric weight (`priority`, `entropy`) | `nano:UnitInterval` | `xsd:decimal`, `0.0 ≤ v ≤ 1.0` | Inclusive bounds |\n",
    "| IRI for resources | IRI (RDF 1.1) | Unicode per RFC 3987 | Passed to Jena as string |\n",
    "| Blank Node | (no lexical form) | Created via Jena factory | Use `null` in domain ⇒ fresh bnode |\n"
   ]
  },
  {
   "cell_type": "markdown",
   "id": "a8d806bf",
   "metadata": {},
   "source": [
    "## Java ↔️ Jena Adapter (reference)\n",
    "```java\n",
    "import org.apache.jena.rdf.model.Resource;\n",
    "import org.apache.jena.rdf.model.ResourceFactory;\n",
    "import org.apache.jena.rdf.model.AnonId;\n",
    "\n",
    "public final class RdfAdapters {\n",
    "  private RdfAdapters() {}\n",
    "\n",
    "  /** Convert domain value to a Jena Resource. \n",
    "   *  @param iriOrNull Unicode string IRI, or null for blank node\n",
    "   *  @throws IllegalArgumentException if iriOrNull is empty\n",
    "   */\n",
    "  public static Resource toResource(String iriOrNull) {\n",
    "    if (iriOrNull == null) {\n",
    "      return ResourceFactory.createResource(); // fresh blank node\n",
    "    }\n",
    "    if (iriOrNull.isEmpty()) {\n",
    "      throw new IllegalArgumentException(\"Empty string is not a valid IRI; use null for blank node.\");\n",
    "    }\n",
    "    return ResourceFactory.createResource(iriOrNull);\n",
    "  }\n",
    "\n",
    "  /** Explicit blank-node creation with a supplied label (optional). */\n",
    "  public static Resource toBNode(String bnodeIdOrNull) {\n",
    "    return (bnodeIdOrNull == null)\n",
    "        ? ResourceFactory.createResource()\n",
    "        : ResourceFactory.createResource(AnonId.create(bnodeIdOrNull));\n",
    "  }\n",
    "}\n",
    "```\n"
   ]
  },
  {
   "cell_type": "code",
   "execution_count": null,
   "id": "0b5db5d4",
   "metadata": {},
   "outputs": [],
   "source": [
    "# Lightweight validators used during ingestion or tests.\n",
    "from __future__ import annotations\n",
    "import re\n",
    "import unicodedata\n",
    "from decimal import Decimal, InvalidOperation\n",
    "\n",
    "UUID_V4_RE = re.compile(r\"^[0-9a-f]{8}-[0-9a-f]{4}-4[0-9a-f]{3}-[89ab][0-9a-f]{3}-[0-9a-f]{12}$\")\n",
    "UNIQUE_IDENTIFIER_RE = re.compile(r\"^[^\\t\\r\\n ]+$\")  # no whitespace at all\n",
    "\n",
    "\n",
    "def normalize_unicode_nfc(s: str) -> str:\n",
    "    \"\"\"Normalize for stable comparisons (policy doesn't require it globally,\n",
    "    but it's often wise for identifiers).\"\"\"\n",
    "    return unicodedata.normalize(\"NFC\", s)\n",
    "\n",
    "\n",
    "def is_unique_identifier(value: str) -> bool:\n",
    "    \"\"\"nano:UniqueIdentifier compliance: no whitespace (token-based), non-empty.\"\"\"\n",
    "    return isinstance(value, str) and bool(value) and bool(UNIQUE_IDENTIFIER_RE.match(value))\n",
    "\n",
    "\n",
    "def is_unit_interval(value: str | float | Decimal) -> bool:\n",
    "    \"\"\"nano:UnitInterval compliance: decimal in [0, 1]. Accept str/float/Decimal inputs.\"\"\"\n",
    "    try:\n",
    "        v = Decimal(str(value))\n",
    "    except (InvalidOperation, ValueError):\n",
    "        return False\n",
    "    return Decimal(\"0\") <= v <= Decimal(\"1\")\n",
    "\n",
    "\n",
    "def is_uuid_v4(value: str) -> bool:\n",
    "    \"\"\"Optional helper; not mandated by policy, but provided for convenience.\"\"\"\n",
    "    return isinstance(value, str) and bool(UUID_V4_RE.match(value))\n",
    "\n",
    "# Demo assertions (can be adjusted or removed by adopters)\n",
    "assert is_unique_identifier(\"urn:uuid:550e8400-e29b-41d4-a716-446655440000\")\n",
    "assert not is_unique_identifier(\"\")\n",
    "assert is_unit_interval(0)\n",
    "assert is_unit_interval(\"0.75\")\n",
    "assert not is_unit_interval(\"1.01\")\n",
    "assert is_uuid_v4(\"550e8400-e29b-41d4-a716-446655440000\")\n",
    "print(\"Sample validations passed.\")\n"
   ]
  },
  {
   "cell_type": "markdown",
   "id": "20ae424c",
   "metadata": {},
   "source": [
    "## Serialization Requirements\n",
    "- **UTF‑8** encoding for **all** serializations (Turtle, JSON‑LD, RDF/XML, files & streams).\n",
    "- RDF/XML must carry an explicit header:\n",
    "  ```xml\n",
    "  <?xml version=\"1.0\" encoding=\"UTF-8\"?>\n",
    "  ```\n",
    "- Writers in Java must open streams with `StandardCharsets.UTF_8`.\n",
    "- Empty string `\"\"` is **invalid** as IRI; use **null** to request a blank node.\n"
   ]
  },
  {
   "cell_type": "markdown",
   "id": "6c519ebd",
   "metadata": {},
   "source": [
    "## Conformance Checklist\n",
    "- [ ] All identifiers (`uid`, `pid`) are non-empty, contain no whitespace, and occur **exactly once** per instance.\n",
    "- [ ] All numeric weights are decimals in **[0, 1]**.\n",
    "- [ ] No empty-string IRIs are written; `null` becomes a blank node.\n",
    "- [ ] All files are saved/transmitted as **UTF‑8**.\n",
    "- [ ] (Optional) UUIDv4 used where suitable; pattern validated.\n"
   ]
  }
 ],
 "metadata": {
  "language_info": {
   "name": "python",
   "pygments_lexer": "python"
  }
 },
 "nbformat": 4,
 "nbformat_minor": 5
}
