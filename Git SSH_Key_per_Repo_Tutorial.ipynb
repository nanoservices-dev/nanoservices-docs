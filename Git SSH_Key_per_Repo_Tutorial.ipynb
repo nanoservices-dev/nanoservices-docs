{
 "cells": [
  {
   "cell_type": "markdown",
   "id": "531b327f",
   "metadata": {},
   "source": [
    "# NanoServices: SSH-Key pro Repo festlegen (GitHub) – Schritt für Schritt\n",
    "Dieses Notebook zeigt **einfach und reproduzierbar**, wie du deinen **SSH-Key** für ein konkretes Git-Repository festlegst, prüfst und testest.\n",
    "\n",
    "**Beispiel:** `~/dev/nanoservices/java/nanoservices-temporal` mit Remote `git@github.com:nanoservices-dev/nanoservices-temporal.git`\n",
    "\n",
    "\n",
    "✅ **Bekannt funktionierender Key (aus deiner Session):**\n",
    "\n",
    "- **Pfad:** `~/.ssh/id_github_nanoservices`\n",
    "\n",
    "- **Typ:** ED25519\n",
    "\n",
    "- **GitHub-Account:** `GeorgeTheDragon`\n",
    "\n",
    "- **Nachricht bei Test:** `Hi GeorgeTheDragon! You've successfully authenticated, but GitHub does not provide shell access.` (normal)\n",
    "\n",
    "\n",
    "> **Hinweis:** GitHub bietet keine Shell – die Meldung ist ein erfolgreicher Auth-Check, kein Fehler.\n"
   ]
  },
  {
   "cell_type": "markdown",
   "id": "c191e124",
   "metadata": {},
   "source": [
    "## 0) Kontext prüfen (Repo & Remote)\n",
    "Im Terminal **im Repo** ausführen (hier: `~/dev/nanoservices/java/nanoservices-temporal`)."
   ]
  },
  {
   "cell_type": "code",
   "execution_count": null,
   "id": "f10fa287",
   "metadata": {},
   "outputs": [],
   "source": [
    "# (Shell) Remote anzeigen\n",
    "# Im Terminal ausführen:\n",
    "#   cd ~/dev/nanoservices/java/nanoservices-temporal\n",
    "#   git remote -v\n",
    "print(\"Im Terminal ausführen:\\n  cd ~/dev/nanoservices/java/nanoservices-temporal\\n  git remote -v\")"
   ]
  },
  {
   "cell_type": "markdown",
   "id": "d26f0246",
   "metadata": {},
   "source": [
    "## 1) Welche SSH-Public-Keys existieren lokal?\n",
    "Liste deine öffentlichen Schlüssel auf. Die passenden **Private Keys** haben denselben Namen ohne `.pub`.\n"
   ]
  },
  {
   "cell_type": "code",
   "execution_count": null,
   "id": "2ef2c4a4",
   "metadata": {},
   "outputs": [],
   "source": [
    "# (Shell) Public Keys anzeigen\n",
    "# macOS/Linux:\n",
    "#   ls -l ~/.ssh/*.pub\n",
    "print(\"Im Terminal ausführen:\\n  ls -l ~/.ssh/*.pub\")"
   ]
  },
  {
   "cell_type": "markdown",
   "id": "430d2742",
   "metadata": {},
   "source": [
    "## 2) Welcher Key gehört zu welchem GitHub-Account?\n",
    "**Test pro Key** (hier exemplarisch für die wichtigsten Dateien). Ein erfolgreicher Test zeigt `Hi <USERNAME>!` und ist **kein** Shell-Login, sondern nur Auth-Check.\n"
   ]
  },
  {
   "cell_type": "code",
   "execution_count": null,
   "id": "b04e1937",
   "metadata": {},
   "outputs": [],
   "source": [
    "# (Shell) Jeden Key explizit testen – einer nach dem anderen\n",
    "#   ssh -T -v -o IdentitiesOnly=yes -i ~/.ssh/id_github_nanoservices git@github.com\n",
    "#   ssh -T -v -o IdentitiesOnly=yes -i ~/.ssh/id_ed25519           git@github.com\n",
    "#   ssh -T -v -o IdentitiesOnly=yes -i ~/.ssh/id_rsa               git@github.com\n",
    "#   ssh -T -v -o IdentitiesOnly=yes -i ~/.ssh/id_nanoservices_dev  git@github.com\n",
    "print(\"Im Terminal (jeweils einzeln) ausführen:\\n\"\n",
    "      \"  ssh -T -v -o IdentitiesOnly=yes -i ~/.ssh/id_github_nanoservices git@github.com\\n\"\n",
    "      \"  ssh -T -v -o IdentitiesOnly=yes -i ~/.ssh/id_ed25519           git@github.com\\n\"\n",
    "      \"  ssh -T -v -o IdentitiesOnly=yes -i ~/.ssh/id_rsa               git@github.com\\n\"\n",
    "      \"  ssh -T -v -o IdentitiesOnly=yes -i ~/.ssh/id_nanoservices_dev  git@github.com\")"
   ]
  },
  {
   "cell_type": "markdown",
   "id": "533b64aa",
   "metadata": {},
   "source": [
    "**Erwartung für den _funktionierenden_ Key in deinem Setup:**  \n",
    "- „**Server accepts key** … `/Users/christianfinkbeiner/.ssh/id_github_nanoservices` …“  \n",
    "- „**Hi `GeorgeTheDragon`!** You've successfully authenticated, but GitHub does not provide shell access.“"
   ]
  },
  {
   "cell_type": "markdown",
   "id": "0634d9a5",
   "metadata": {},
   "source": [
    "## 3) Diesen Key **repo-spezifisch** fest verdrahten\n",
    "So erzwingst du, dass **dieses Repo** _immer_ den Key `~/.ssh/id_github_nanoservices` nimmt – unabhängig von Agent/Global-Config.\n"
   ]
  },
  {
   "cell_type": "code",
   "execution_count": null,
   "id": "3e4db263",
   "metadata": {},
   "outputs": [],
   "source": [
    "# (Shell) Im Repo ausführen\n",
    "#   cd ~/dev/nanoservices/java/nanoservices-temporal\n",
    "#   git config core.sshCommand 'ssh -i ~/.ssh/id_github_nanoservices -o IdentitiesOnly=yes'\n",
    "print(\"Im Terminal ausführen:\\n  cd ~/dev/nanoservices/java/nanoservices-temporal\\n\"\n",
    "      \"  git config core.sshCommand 'ssh -i ~/.ssh/id_github_nanoservices -o IdentitiesOnly=yes'\")"
   ]
  },
  {
   "cell_type": "markdown",
   "id": "a8398d2d",
   "metadata": {},
   "source": [
    "## 4) Sicherstellen, dass der Remote **SSH** ist (nicht HTTPS)\n",
    "Falls noch HTTPS eingetragen ist, auf SSH-URL umstellen.\n"
   ]
  },
  {
   "cell_type": "code",
   "execution_count": null,
   "id": "1752cd30",
   "metadata": {},
   "outputs": [],
   "source": [
    "# (Shell) Remote fest auf SSH setzen (konkrete URL)\n",
    "#   git remote set-url origin git@github.com:nanoservices-dev/nanoservices-temporal.git\n",
    "print(\"Im Terminal ausführen:\\n  git remote set-url origin git@github.com:nanoservices-dev/nanoservices-temporal.git\")"
   ]
  },
  {
   "cell_type": "markdown",
   "id": "dc430860",
   "metadata": {},
   "source": [
    "## 5) Zugriff prüfen (ohne Push)\n",
    "`git ls-remote` fragt die Referenzen ab – klappt nur mit gültigem Zugriff.\n"
   ]
  },
  {
   "cell_type": "code",
   "execution_count": null,
   "id": "5b44386f",
   "metadata": {},
   "outputs": [],
   "source": [
    "# (Shell) Test – muss ohne Permission denied zurückkommen\n",
    "#   git ls-remote origin\n",
    "print(\"Im Terminal ausführen:\\n  git ls-remote origin\")"
   ]
  },
  {
   "cell_type": "markdown",
   "id": "f9c09995",
   "metadata": {},
   "source": [
    "## 6) (Wichtig für Organisations-Repos) **SSO freischalten**\n",
    "Wenn dein Schlüssel unter **GitHub → Settings → SSH and GPG keys** hinterlegt ist, musst du bei **Organisationen** (hier: `nanoservices-dev`) oft zusätzlich **„Enable SSO“** für diesen Key klicken – sonst scheitern private Org-Repos mit `Permission denied (publickey)`.\n"
   ]
  },
  {
   "cell_type": "markdown",
   "id": "0c9b1f38",
   "metadata": {},
   "source": [
    "## 7) Troubleshooting – häufige Fälle\n",
    "- **`Permission denied (publickey)`** trotz korrektem Key:\n",
    "\n",
    "  1. Public Key nicht bei GitHub hinterlegt → `pbcopy < ~/.ssh/id_github_nanoservices.pub` und auf GitHub einfügen.\n",
    "\n",
    "  2. SSO für die Organisation nicht aktiviert → „Enable SSO“ beim Key anklicken.\n",
    "\n",
    "  3. Falscher Key im Repo → `git config core.sshCommand` prüfen.\n",
    "\n",
    "  4. Falsche Remote-URL (HTTPS statt SSH) → `git remote -v` prüfen und ggf. umstellen (siehe oben).\n",
    "\n",
    "\n",
    "- **Welcher Key wird wirklich benutzt?**\n",
    "\n",
    "  ```bash\n",
    "  ssh -T -v -o IdentitiesOnly=yes -i ~/.ssh/id_github_nanoservices git@github.com\n",
    "  ```\n",
    "  Achte auf „**Server accepts key:** …`id_github_nanoservices`…“ und die `Hi <USERNAME>!`-Zeile.\n",
    "\n",
    "- **Repo temporär mit bestimmtem Key testen (ohne Config zu ändern):**\n",
    "\n",
    "  ```bash\n",
    "  GIT_SSH_COMMAND='ssh -i ~/.ssh/id_github_nanoservices -o IdentitiesOnly=yes' git ls-remote origin\n",
    "  ```\n"
   ]
  },
  {
   "cell_type": "markdown",
   "id": "48ab116d",
   "metadata": {},
   "source": [
    "---\n",
    "### Zusammenfassung\n",
    "- **Key:** `~/.ssh/id_github_nanoservices` (**funktioniert**, Account: `GeorgeTheDragon`).  \n",
    "- **Repo:** `~/dev/nanoservices/java/nanoservices-temporal`  \n",
    "- **Remote:** `git@github.com:nanoservices-dev/nanoservices-temporal.git`  \n",
    "- **Repo bindet Key:**  \n",
    "  ```bash\n",
    "  git config core.sshCommand 'ssh -i ~/.ssh/id_github_nanoservices -o IdentitiesOnly=yes'\n",
    "  ```\n",
    "- **Zugriffstest:**  \n",
    "  ```bash\n",
    "  git ls-remote origin\n",
    "  ```\n"
   ]
  }
 ],
 "metadata": {
  "kernelspec": {
   "display_name": "Python 3",
   "language": "python",
   "name": "python3"
  },
  "language_info": {
   "name": "python",
   "pygments_lexer": "ipython3"
  }
 },
 "nbformat": 4,
 "nbformat_minor": 5
}
