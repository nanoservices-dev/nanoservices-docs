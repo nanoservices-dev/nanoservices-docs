{
  "cells": [
    {
      "cell_type": "markdown",
      "metadata": {},
      "source": [
        "# \ud83e\udded Anleitung: GitHub-Repo in einer Organisation (z.\u202fB. nanoservices-dev) erstellen und verbinden\n",
        "\n",
        "Diese Anleitung zeigt, wie du ein neues Git-Repository lokal erstellst, es mit einem **GitHub-Repo in einer Organisation** verbindest und typische Fehler behebst \u2013 alles mit Fokus auf SSH-Zugriff \u00fcber einen Host-Alias (`github-nano`)."
      ]
    },
    {
      "cell_type": "markdown",
      "metadata": {},
      "source": [
        "## \ud83d\udd27 Voraussetzungen\n",
        "\n",
        "- Git ist installiert\n",
        "- Du hast einen SSH-Key speziell f\u00fcr deine Organisation\n",
        "- In deiner `~/.ssh/config` steht z.\u202fB.:\n",
        "```ssh\n",
        "Host github-nano\n",
        "  HostName github.com\n",
        "  User git\n",
        "  IdentityFile ~/.ssh/id_nanoservices_dev\n",
        "  IdentitiesOnly yes\n",
        "```\n",
        "- Dieser Key ist bei GitHub hinterlegt: https://github.com/settings/ssh/new"
      ]
    },
    {
      "cell_type": "markdown",
      "metadata": {},
      "source": [
        "## \ud83d\ude80 Neues Projekt aufsetzen\n",
        "\n",
        "```bash\n",
        "# Gehe in deinen Projektordner\n",
        "cd ~/dev/nanoservices\n",
        "\n",
        "# Lege ein neues Projekt an\n",
        "mkdir my-service && cd my-service\n",
        "\n",
        "# Initialisiere Git\n",
        "git init -b main\n",
        "touch README.md\n",
        "git add .\n",
        "git commit -m \"Initial commit\"\n",
        "\n",
        "# Erstelle das GitHub-Repo via CLI\n",
        "gh repo create nanoservices-dev/my-service --public --source=. --remote=origin --push\n",
        "```"
      ]
    },
    {
      "cell_type": "markdown",
      "metadata": {},
      "source": [
        "## \ud83d\udee0 Fehlerbehebung: Remote-Zugriff schl\u00e4gt fehl?\n",
        "\n",
        "**Fehlermeldung:**\n",
        "```text\n",
        "Permission denied (publickey).\n",
        "fatal: Could not read from remote repository.\n",
        "```\n",
        "\n",
        "**L\u00f6sung:** Du hast evtl. `git@github.com:` verwendet, aber dein Key gilt nur f\u00fcr `github-nano`. Nutze stattdessen:\n",
        "```bash\n",
        "git remote set-url origin git@github-nano:nanoservices-dev/my-service.git\n",
        "git push -u origin main\n",
        "```\n",
        "\n",
        "**Test:**\n",
        "```bash\n",
        "ssh -T github-nano\n",
        "# \u2192 Erfolgreich, wenn: \"You've successfully authenticated...\"\n",
        "```"
      ]
    },
    {
      "cell_type": "markdown",
      "metadata": {},
      "source": [
        "## \ud83e\uddf9 Optional: Existierendes `.git` entfernen (wenn du versehentlich im falschen Repo bist)\n",
        "\n",
        "```bash\n",
        "# Zeigt an, ob du in einem Git-Repo bist\n",
        "git rev-parse --show-toplevel\n",
        "\n",
        "# Wenn n\u00f6tig: .git-Ordner l\u00f6schen\n",
        "rm -rf .git\n",
        "```"
      ]
    }
  ],
  "metadata": {
    "kernelspec": {
      "display_name": "bash",
      "language": "bash",
      "name": "bash"
    },
    "language_info": {
      "name": "bash"
    }
  },
  "nbformat": 4,
  "nbformat_minor": 5
}