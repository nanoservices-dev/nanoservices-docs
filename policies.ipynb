{
 "cells": [
  {
   "cell_type": "markdown",
   "metadata": {},
   "source": [
    "# nanoServices: Policy-Management und ACP-Mapping (Solid-kompatibel)\n",
    "\n",
    "## Einführung\n",
    "\n",
    "Dieses Notebook demonstriert, wie Policies und Access Control im nanoServices-Framework semantisch modelliert und ausgewertet werden, orientiert an Solid/ACP (Access Control Policies).\n",
    "\n",
    "- **ACP** (W3C Solid): Standard-Ontologie für Zugriffssteuerung und Policy Management\n",
    "- **nanoServices**: Verwendet ACP, wenn möglich, und erweitert bei Bedarf um eigene Properties\n",
    "- **Named Graphs**: Policies und Controls werden auf explizite Graphen (z. B. pro System) abgebildet\n",
    "\n",
    "---"
   ]
  },
  {
   "cell_type": "code",
   "metadata": {},
   "source": [
    "# Beispiel: nanoServices Policy-Modell mit ACP und Named Graphs\n",
    "\n",
    "turtle_data = '''\n",
    "@prefix acp: <http://www.w3.org/ns/solid/acp#> .\n",
    "@prefix nano: <http://nanoservices.dev/ns#> .\n",
    "@prefix foaf: <http://xmlns.com/foaf/0.1/> .\n",
    "\n",
    "# 1. System und Default-Graph\n",
    "nano:systemA a nano:System ;\n",
    "    foaf:name \"System A\"@en ;\n",
    "    nano:defaultGraph <http://fuseki.example.org/dataset/systemA/default> .\n",
    "\n",
    "# 2. Policy, die zwei Agenten Zugriff gewährt\n",
    "nano:systemAPolicy a acp:Policy ;\n",
    "    acp:allow acp:Read, acp:Write ;\n",
    "    acp:anyOf ( nano:agentAlice nano:agentBob ) ;\n",
    "    rdfs:label \"Policy für System A Default-Graph\"@de .\n",
    "\n",
    "# 3. AccessControl auf Named Graph anwenden\n",
    "nano:systemAAccessControl a acp:AccessControl ;\n",
    "    acp:apply nano:systemAPolicy ;\n",
    "    acp:access <http://fuseki.example.org/dataset/systemA/default> .\n",
    "\n",
    "# 4. Agenten\n",
    "nano:agentAlice a foaf:Person ; foaf:name \"Alice\" .\n",
    "nano:agentBob a foaf:Person ; foaf:name \"Bob\" .\n",
    "'''\n",
    "print(turtle_data)"
   ],
   "execution_count": null,
   "outputs": []
  },
  {
   "cell_type": "markdown",
   "metadata": {},
   "source": [
    "---\n",
    "## Python (rdflib): Policy-Auswertung im Notebook\n",
    "\n",
    "Dieses Beispiel zeigt, wie du mit rdflib alle Policies und zugehörigen Named Graphs auslesen kannst.\n",
    "\n",
    "> Tipp: Vorab sicherstellen, dass rdflib installiert ist: `!pip install rdflib`\n",
    "---"
   ]
  },
  {
   "cell_type": "code",
   "metadata": {},
   "source": [
    "from rdflib import Graph, Namespace\n",
    "from rdflib.namespace import RDF, RDFS\n",
    "\n",
    "# Namespaces\n",
    "acp = Namespace(\"http://www.w3.org/ns/solid/acp#\")\n",
    "nano = Namespace(\"http://nanoservices.dev/ns#\")\n",
    "foaf = Namespace(\"http://xmlns.com/foaf/0.1/\")\n",
    "\n",
    "# RDF-Graph laden (aus der vorherigen Turtle-Variable)\n",
    "g = Graph()\n",
    "g.parse(data=turtle_data, format=\"turtle\")\n",
    "\n",
    "print(\"Alle AccessControls, zugehörige Policies und Named Graphs:\\n\")\n",
    "for ac, _, policy in g.triples((None, acp.apply, None)):\n",
    "    for _, _, graph in g.triples((ac, acp.access, None)):\n",
    "        print(\"AccessControl:\", ac)\n",
    "        print(\"  Policy:     \", policy)\n",
    "        print(\"  NamedGraph: \", graph)\n",
    "        print(\"---\")"
   ],
   "execution_count": null,
   "outputs": []
  },
  {
   "cell_type": "markdown",
   "metadata": {},
   "source": [
    "---\n",
    "## Weiterführende Aufgaben\n",
    "\n",
    "- Ergänze Policies mit weiteren Bedingungen (Constraints)\n",
    "- Modelliere Delegationen (z. B. Firmen- oder Gruppenrechte)\n",
    "- Integriere das Policy-Modell in eine SPARQL-Federation, um systemübergreifende Zugriffsrechte auszuwerten\n",
    "\n",
    "---\n",
    "\n",
    "**Fragen, Anpassungswünsche oder Erweiterungen? Einfach im Notebook ergänzen oder im Chat anfragen!**"
   ]
  }
 ],
 "metadata": {
  "kernelspec": {
   "display_name": "Python 3",
   "language": "python",
   "name": "python3"
  },
  "language_info": {
   "name": "python",
   "version": ""
  }
 },
 "nbformat": 4,
 "nbformat_minor": 2
}

