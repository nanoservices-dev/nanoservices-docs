{
 "cells": [
  {
   "cell_type": "markdown",
   "metadata": {},
   "source": [
    "# URN vs. URL Cheat-Sheet für nanoServices\n",
    "\n",
    "Dieses Notebook erklärt die Unterschiede und den praktischen Einsatz von **URNs** und **URLs** im nanoServices-Framework und im Semantic Web.\n",
    "\n",
    "___"
   ]
  },
  {
   "cell_type": "markdown",
   "metadata": {},
   "source": [
    "## 1. Grundlagen\n",
    "\n",
    "- **URN (Uniform Resource Name):**\n",
    "  - Globale, aber nicht-dereferenzierbare Bezeichner (reine Namen)\n",
    "  - Beispiel: `urn:system:supervisor`, `urn:jojo:supervisor-worker1`\n",
    "- **URL (Uniform Resource Locator):**\n",
    "  - Adresse im Netz, dereferenzierbar (bietet Zugriff auf Daten)\n",
    "  - Beispiel: `https://news.example.com/feed.rdf`, `http://localhost:9001/system/supervisor`\n",
    "\n",
    "___"
   ]
  },
  {
   "cell_type": "markdown",
   "metadata": {},
   "source": [
    "## 2. Vergleichstabelle\n",
    "\n",
    "| Kriterium           | URN (`urn:...`)                  | URL (`http(s)://...`)               |\n",
    "|---------------------|-----------------------------------|-------------------------------------|\n",
    "| **Verwendungszweck**| Identität, interne Referenz       | Adresse/Standort von Daten/Services |\n",
    "| **Dereferenzierbar**| Nein (nur im eigenen System)      | Ja (im Web, per HTTP)               |\n",
    "| **Typische Anwendung**| Worker, Prozesse, Policies     | Endpoints, Feeds, APIs, Daten       |\n",
    "| **Beispiel**        | `urn:system:supervisor`           | `https://news.example.com/feed.rdf` |\n",
    "| **Im RDF-Graph**    | Eindeutige Entität im System      | Adresse externer Information        |\n",
    "\n",
    "___"
   ]
  },
  {
   "cell_type": "markdown",
   "metadata": {},
   "source": [
    "## 3. Beispiele aus nanoServices\n",
    "\n",
    "### A) Interne Worker-Instanz (URN)\n",
    "\n",
    "```turtle\n",
    "urn:jojo:supervisor-worker1 a nano:SupervisorService ;\n",
    "    nano:belongsToSystem urn:jojo:jojo ;\n",
    "    nano:serviceEndpoint <http://localhost:9001/system/supervisor> ;\n",
    "    nano:hasStatus \"active\" .\n",
    "```\n",
    "\n",
    "### B) Externer Datenfeed (URL)\n",
    "\n",
    "```turtle\n",
    "ex:feed1 a nano:ExternalFeed ;\n",
    "    nano:resource <https://news.example.com/feed.rdf> ;\n",
    "    nano:format \"RDF\" ;\n",
    "    nano:updatedAt \"2025-08-05T11:00:00+02:00\"^^xsd:dateTime .\n",
    "```\n",
    "\n",
    "### C) Policy-Referenz auf Instanz (URN)\n",
    "\n",
    "```turtle\n",
    "urn:system:supervisor nano:hasPolicy urn:policy:onlyAdminStart .\n",
    "```\n",
    "\n",
    "___"
   ]
  },
  {
   "cell_type": "markdown",
   "metadata": {},
   "source": [
    "## 4. In einer Java-Message\n",
    "\n",
    "```java\n",
    "// URN als resource für einen internen Workflow\n",
    "Resource resource = ResourceFactory.createResource(\"urn:dev:system:supervisor:listProcesses\");\n",
    "// ...Worker sucht Infos im Triple-Store\n",
    "\n",
    "// URL als resource für externen Datenabruf\n",
    "Resource resource = ResourceFactory.createResource(\"https://news.example.com/feed.rdf\");\n",
    "// ...Service greift über HTTP auf die Information zu\n",
    "```\n",
    "___"
   ]
  },
  {
   "cell_type": "markdown",
   "metadata": {},
   "source": [
    "## 5. Best Practices für nanoServices\n",
    "\n",
    "- **URIs als interne Identität**: Immer als URN gestalten (systemisch, eindeutig, nicht dereferenzierbar)\n",
    "- **URLs für echte Informationsquellen/Endpoints**: Nur wenn tatsächlich extern/abrufbar\n",
    "- **Dereferenzierung:**\n",
    "  - URN: Nur intern im Triple-Store (SPARQL, Jena, Fuseki, etc.)\n",
    "  - URL: Im Web (per HTTP, curl, Browser etc.)\n",
    "- **Im Zweifel:**\n",
    "  - **URIs für interne Systemelemente und Policies**\n",
    "  - **URLs nur für echte Datenadressen und Schnittstellen**\n",
    "\n",
    "___\n",
    "\n",
    "### **Noch Fragen?**\n",
    "Gerne mit eigenen Beispielen erweitern oder spezifische Anwendungsfälle beleuchten!"
   ]
  }
 ],
 "metadata": {
  "kernelspec": {
   "display_name": "Python 3",
   "language": "python",
   "name": "python3"
  },
  "language_info": {
   "name": "python",
   "version": ""
  }
 },
 "nbformat": 4,
 "nbformat_minor": 2
}
