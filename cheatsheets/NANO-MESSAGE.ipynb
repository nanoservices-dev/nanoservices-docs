{
 "cells": [
  {
   "cell_type": "markdown",
   "metadata": {},
   "source": [
    "# Message-Pattern Cheat-Sheet für nanoServices\n",
    "\n",
    "Dieses Notebook erklärt die typischen Varianten für `resource` und `information` in Nachrichtenobjekten, sowie Vor- und Nachteile und Use Cases.\n",
    "\n",
    "___"
   ]
  },
  {
   "cell_type": "markdown",
   "metadata": {},
   "source": [
    "## 1. Klassische Service-Operation ohne Nutzdaten\n",
    "\n",
    "**Beispiel:**\n",
    "- Operation: `urn:system:Supervisor:listProcesses`\n",
    "- Es gibt keine Nutzdaten, die übergeben werden müssen.\n",
    "\n",
    "```java\n",
    "resource = ResourceFactory.createResource(\"urn:system:Supervisor:listProcesses\");\n",
    "information = null;\n",
    "```\n",
    "___"
   ]
  },
  {
   "cell_type": "markdown",
   "metadata": {},
   "source": [
    "## 2. Operation auf vorhandener Resource\n",
    "\n",
    "**Beispiel:**\n",
    "- Ein Service soll einen vorhandenen Graphen oder eine Datei verarbeiten.\n",
    "- Die Daten liegen unter einer URI im System.\n",
    "\n",
    "```java\n",
    "resource = ResourceFactory.createResource(\"urn:system:jena:myGraph\");\n",
    "information = null;\n",
    "```\n",
    "Der Empfänger kennt die URI und holt sich die Information selbst (klassisches Semantic Web Pattern).\n",
    "___"
   ]
  },
  {
   "cell_type": "markdown",
   "metadata": {},
   "source": [
    "## 3. Direkter Payload-Transfer (keine Resource-URI)\n",
    "\n",
    "**Beispiel:**\n",
    "- Die zu verarbeitenden Daten werden direkt in der Nachricht mitgeschickt (z.B. als Turtle, JSON-LD, Dateiinhalt).\n",
    "- Die Herkunft der Daten ist für den Empfänger nicht sichtbar.\n",
    "\n",
    "```java\n",
    "resource = null;\n",
    "information = \"<turtle-snippet-hier>\";\n",
    "```\n",
    "___"
   ]
  },
  {
   "cell_type": "markdown",
   "metadata": {},
   "source": [
    "## 4. Hybrid-Pattern\n",
    "\n",
    "- Manche Systeme loggen die Herkunft intern, übergeben aber nach außen nur den Payload (`resource = null`).\n",
    "- Geeignet, wenn Security/Privacy wichtiger ist als vollständiges Tracing.\n",
    "\n",
    "___"
   ]
  },
  {
   "cell_type": "markdown",
   "metadata": {},
   "source": [
    "## 5. Vergleichstabelle\n",
    "\n",
    "| Pattern                          | resource                 | information           | Vorteil                                  | Nachteil                     |\n",
    "|-----------------------------------|-------------------------|-----------------------|-------------------------------------------|------------------------------|\n",
    "| Klassisch (Resource-URI)          | URI der Resource        | null                  | Tracebar, auditierbar, semantisch sauber  | Ggf. sichtbar für alle       |\n",
    "| Payload only (keine Resource)     | null                    | Daten (Turtle etc.)   | Herkunft versteckt, Privacy, „Push“       | Nicht rückverfolgbar         |\n",
    "| Hybrid                            | null / intern           | Daten                | Mischung aus beiden, Privacy & Logging    | Komplexeres Handling         |\n",
    "\n",
    "___"
   ]
  },
  {
   "cell_type": "markdown",
   "metadata": {},
   "source": [
    "## 6. Security- und Policy-Hinweis\n",
    "\n",
    "- **Traceability:**\n",
    "    - Mit `resource`-URI ist jede Verarbeitung transparent und nachvollziehbar (Audit, Debugging, Compliance).\n",
    "- **Privacy:**\n",
    "    - Mit nur `information` (kein `resource`) ist die Herkunft für den Empfänger und Dritte nicht direkt sichtbar.\n",
    "- **Empfehlung:**\n",
    "    - Systemweit dokumentieren, wann und warum welcher Pattern genutzt wird!\n",
    "\n",
    "___\n",
    "\n",
    "### **Noch Fragen oder Spezialfälle?**\n",
    "Gerne erweitern!"
   ]
  }
 ],
 "metadata": {
  "kernelspec": {
   "display_name": "Python 3",
   "language": "python",
   "name": "python3"
  },
  "language_info": {
   "name": "python",
   "version": ""
  }
 },
 "nbformat": 4,
 "nbformat_minor": 2
}
