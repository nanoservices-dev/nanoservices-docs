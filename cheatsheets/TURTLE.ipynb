{
 "cells": [
  {
   "cell_type": "markdown",
   "metadata": {},
   "source": [
    "# 🐢 Turtle Cheat-Sheet\n",
    "\n",
    "Kurze Übersicht zu Syntax, Best Practices und Beispielen für das RDF Turtle-Format."
   ]
  },
  {
   "cell_type": "markdown",
   "metadata": {},
   "source": [
    "## Grundstruktur\n",
    "\n",
    "```turtle\n",
    "@prefix ex: <http://example.org/> .\n",
    "\n",
    "ex:Alice ex:knows ex:Bob .\n",
    "ex:Bob ex:knows ex:Charlie, ex:Alice ;\n",
    "       ex:age 42 .\n",
    "```"
   ]
  },
  {
   "cell_type": "markdown",
   "metadata": {},
   "source": [
    "## Präfixe\n",
    "\n",
    "```turtle\n",
    "@prefix foaf: <http://xmlns.com/foaf/0.1/> .\n",
    "@prefix dct: <http://purl.org/dc/terms/> .\n",
    "```\n",
    "Verkürzt URIs und macht das Lesen angenehmer."
   ]
  },
  {
   "cell_type": "markdown",
   "metadata": {},
   "source": [
    "## Literale\n",
    "\n",
    "```turtle\n",
    "ex:Bob ex:age 42 ;\n",
    "       ex:email \"bob@example.org\" ;\n",
    "       ex:birthday \"1980-01-01\"^^xsd:date .\n",
    "```\n",
    "• Zahlen, Strings, Datumsangaben\n",
    "• Sprachangaben:\n",
    "```turtle\n",
    "ex:Alice ex:label \"Mitarbeiterin\"@de ;\n",
    "        ex:label \"employee\"@en .\n",
    "```"
   ]
  },
  {
   "cell_type": "markdown",
   "metadata": {},
   "source": [
    "## Listen (RDF List)\n",
    "\n",
    "```turtle\n",
    "ex:Team ex:members (ex:Alice ex:Bob ex:Charlie) .\n",
    "```"
   ]
  },
  {
   "cell_type": "markdown",
   "metadata": {},
   "source": [
    "## Blank Nodes (anonyme Knoten)\n",
    "\n",
    "```turtle\n",
    "ex:Alice ex:hasAddress [\n",
    "  ex:city \"Berlin\" ;\n",
    "  ex:zip 12345\n",
    "] .\n",
    "```"
   ]
  },
  {
   "cell_type": "markdown",
   "metadata": {},
   "source": [
    "## Kommentare\n",
    "\n",
    "```turtle\n",
    "# Das ist ein Kommentar\n",
    "```\n",
    "Immer mit # – alles nach dem # wird ignoriert."
   ]
  },
  {
   "cell_type": "markdown",
   "metadata": {},
   "source": [
    "## RDF-Typen und Instanzen\n",
    "\n",
    "```turtle\n",
    "ex:Alice a foaf:Person ;\n",
    "         foaf:name \"Alice\" .\n",
    "```"
   ]
  },
  {
   "cell_type": "markdown",
   "metadata": {},
   "source": [
    "## Häufige Fehler & Best Practices\n",
    "- Immer mit Punkt (`.`) abschließen!\n",
    "- Semikolon (`;`) = weitere Properties zum selben Subjekt\n",
    "- Komma (`,`) = weitere Objekte zum selben Prädikat\n",
    "- Keine Leerzeichen in URIs\n",
    "- Sprachangaben sinnvoll nutzen: `@de`, `@en`, etc.\n",
    "- Präfixe sauber definieren, für Klarheit und Lesbarkeit"
   ]
  },
  {
   "cell_type": "markdown",
   "metadata": {},
   "source": [
    "## Turtle lesen/parsen in Python (rdflib)\n",
    "```python\n",
    "from rdflib import Graph\n",
    "g = Graph()\n",
    "turtle_data = \"\"\"\n",
    "@prefix ex: <http://example.org/> .\n",
    "ex:Alice ex:knows ex:Bob .\n",
    "\"\"\"\n",
    "g.parse(data=turtle_data, format=\"turtle\")\n",
    "for s, p, o in g:\n",
    "    print(s, p, o)\n",
    "```"
   ]
  },
  {
   "cell_type": "markdown",
   "metadata": {},
   "source": [
    "## Ressourcen\n",
    "- [Turtle Syntax – offizielle W3C-Spezifikation](https://www.w3.org/TR/turtle/)\n",
    "- [Turtle Tutorial (englisch)](https://www.w3schools.com/ai/ai_rdf_turtle.asp)\n",
    "- [Try Turtle Online: RDF Validator](https://www.w3.org/2013/ShExValidata/playground?manifestURL=https://www.w3.org/2013/ShExValidata/manifest.jsonld)\n"
   ]
  }
 ],
 "metadata": {
  "kernelspec": {
   "display_name": "Python 3",
   "language": "python",
   "name": "python3"
  },
  "language_info": {
   "name": "python",
   "version": ""
  }
 },
 "nbformat": 4,
 "nbformat_minor": 2
}
