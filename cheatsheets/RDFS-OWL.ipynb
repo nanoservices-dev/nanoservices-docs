{
 "cells": [
  {
   "cell_type": "markdown",
   "metadata": {},
   "source": [
    "# 🧠 Ontologie-Cheat-Sheet (RDFS & OWL)\n",
    "\n",
    "Kurze Einführung in Ontologien für das Semantic Web (RDFS/OWL):\n",
    "- Begriffe & Grundstruktur\n",
    "- Beispiele in Turtle\n",
    "- Typische Konstrukte\n"
   ]
  },
  {
   "cell_type": "markdown",
   "metadata": {},
   "source": [
    "## Was ist eine Ontologie?\n",
    "- Formalisierte Beschreibung von Klassen (Konzepten), Relationen und Regeln\n",
    "- „Vokabular“ & „Schema“ für RDF-Daten\n",
    "- Standard: [RDFS](https://www.w3.org/TR/rdf-schema/) und [OWL](https://www.w3.org/OWL/)"
   ]
  },
  {
   "cell_type": "markdown",
   "metadata": {},
   "source": [
    "## Grundbausteine (RDFS/OWL)\n",
    "- **rdfs:Class** – Definiert eine Klasse/Konzept\n",
    "- **rdf:type (a)** – Instanz einer Klasse\n",
    "- **rdfs:subClassOf** – Vererbung zwischen Klassen\n",
    "- **rdf:Property** – Allgemeine Property\n",
    "- **owl:ObjectProperty** – Property zu anderen Resourcen\n",
    "- **owl:DatatypeProperty** – Property zu Literalwerten\n",
    "- **rdfs:domain / rdfs:range** – Für Properties: Gültigkeitsbereich\n"
   ]
  },
  {
   "cell_type": "markdown",
   "metadata": {},
   "source": [
    "## Beispiel: Eigene Mini-Ontologie in Turtle\n",
    "```turtle\n",
    "@prefix ex: <http://example.org/> .\n",
    "@prefix rdfs: <http://www.w3.org/2000/01/rdf-schema#> .\n",
    "@prefix owl: <http://www.w3.org/2002/07/owl#> .\n",
    "\n",
    "ex:Person a owl:Class ;\n",
    "  rdfs:label \"Person\"@de ;\n",
    "  rdfs:comment \"Ein Mensch oder eine Agentin\"@de .\n",
    "\n",
    "ex:Student a owl:Class ;\n",
    "  rdfs:subClassOf ex:Person ;\n",
    "  rdfs:label \"Student/in\"@de .\n",
    "\n",
    "ex:studiertAn a owl:ObjectProperty ;\n",
    "  rdfs:domain ex:Student ;\n",
    "  rdfs:range ex:Hochschule ;\n",
    "  rdfs:label \"studiert an\"@de .\n",
    "\n",
    "ex:name a owl:DatatypeProperty ;\n",
    "  rdfs:domain ex:Person ;\n",
    "  rdfs:range rdfs:Literal ;\n",
    "  rdfs:label \"Name\"@de .\n",
    "```"
   ]
  },
  {
   "cell_type": "markdown",
   "metadata": {},
   "source": [
    "## OWL-Spezialitäten\n",
    "- **owl:equivalentClass / owl:sameAs** – Begriffs-/Instanzgleichheit\n",
    "- **owl:disjointWith** – Disjunkte Klassen\n",
    "- **owl:inverseOf** – Umkehr-Relation\n",
    "- **owl:Restriction** – Einschränkungen (z. B. max. 1, genau 2, ...)\n"
   ]
  },
  {
   "cell_type": "markdown",
   "metadata": {},
   "source": [
    "## Häufige Ontologie-Vokabulare\n",
    "- [FOAF](http://xmlns.com/foaf/0.1/) – Personen, Social Web\n",
    "- [Dublin Core](http://purl.org/dc/terms/) – Dokument-Metadaten\n",
    "- [SOSA/SSN](https://www.w3.org/TR/vocab-ssn/) – Sensoren, Messdaten\n",
    "- [Schema.org](https://schema.org/) – Web-Vokabular für viele Bereiche\n"
   ]
  },
  {
   "cell_type": "markdown",
   "metadata": {},
   "source": [
    "## Ressourcen und Tools\n",
    "- [Protégé Ontology Editor](https://protege.stanford.edu/)\n",
    "- [OWL Primer](https://www.w3.org/TR/owl2-primer/)\n",
    "- [LOV: Linked Open Vocabularies](https://lov.linkeddata.es/dataset/lov/)\n"
   ]
  }
 ],
 "metadata": {
  "kernelspec": {
   "display_name": "Python 3",
   "language": "python",
   "name": "python3"
  },
  "language_info": {
   "name": "python",
   "version": ""
  }
 },
 "nbformat": 4,
 "nbformat_minor": 2
}
