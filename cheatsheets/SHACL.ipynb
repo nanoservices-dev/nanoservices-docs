{
 "cells": [
  {
   "cell_type": "markdown",
   "metadata": {},
   "source": [
    "# 🧩 SHACL Cheat-Sheet\n",
    "\n",
    "SHACL = Shapes Constraint Language\n",
    "- RDF-Standard für Datenvalidierung und Schemas\n",
    "- \"Shaping\" von Graphdaten: Struktur, Regeln, Pflichtfelder, Wertebereiche\n"
   ]
  },
  {
   "cell_type": "markdown",
   "metadata": {},
   "source": [
    "## Grundbausteine\n",
    "- **sh:NodeShape**: Form für Instanzen (Ressourcen)\n",
    "- **sh:PropertyShape**: Regel für eine Property\n",
    "- **sh:targetClass**: Zielklasse für die Shape\n",
    "- **sh:path**: Welche Property wird geprüft?\n",
    "- Constraints: **sh:minCount**, **sh:maxCount**, **sh:datatype**, **sh:pattern**, **sh:in**, ...\n"
   ]
  },
  {
   "cell_type": "markdown",
   "metadata": {},
   "source": [
    "## Beispiel: SHACL-Shape für Personen\n",
    "```turtle\n",
    "@prefix sh: <http://www.w3.org/ns/shacl#> .\n",
    "@prefix ex: <http://example.org/> .\n",
    "\n",
    "ex:PersonShape a sh:NodeShape ;\n",
    "  sh:targetClass ex:Person ;\n",
    "  sh:property [\n",
    "    sh:path ex:name ;\n",
    "    sh:datatype xsd:string ;\n",
    "    sh:minCount 1 ;\n",
    "  ] ;\n",
    "  sh:property [\n",
    "    sh:path ex:age ;\n",
    "    sh:datatype xsd:integer ;\n",
    "    sh:minInclusive 0 ;\n",
    "    sh:maxInclusive 130 ;\n",
    "  ] .\n",
    "```\n",
    "- **ex:name**: Muss mindestens 1x als String vorkommen\n",
    "- **ex:age**: Wenn vorhanden, muss integer zwischen 0 und 130 sein"
   ]
  },
  {
   "cell_type": "markdown",
   "metadata": {},
   "source": [
    "## Typische SHACL-Constraints\n",
    "- **sh:minCount / sh:maxCount**: Mindest-/Maximalanzahl\n",
    "- **sh:datatype**: Datentyp (xsd:string, xsd:integer, ...)\n",
    "- **sh:pattern**: Regex für Literale\n",
    "- **sh:in**: Werteliste\n",
    "- **sh:class**: Muss Instanz einer Klasse sein\n",
    "- **sh:nodeKind**: (IRI, Literal, BlankNode)\n",
    "- **sh:hasValue**: Muss einen bestimmten Wert haben\n"
   ]
  },
  {
   "cell_type": "markdown",
   "metadata": {},
   "source": [
    "## Beispiel: Nur bestimmte Farben erlaubt\n",
    "```turtle\n",
    "ex:ColorShape a sh:NodeShape ;\n",
    "  sh:targetClass ex:Car ;\n",
    "  sh:property [\n",
    "    sh:path ex:color ;\n",
    "    sh:in (\"red\" \"blue\" \"black\") ;\n",
    "  ] .\n",
    "```"
   ]
  },
  {
   "cell_type": "markdown",
   "metadata": {},
   "source": [
    "## SHACL in Python validieren (pySHACL)\n",
    "```python\n",
    "from pyshacl import validate\n",
    "from rdflib import Graph\n",
    "\n",
    "data = '''\n",
    "@prefix ex: <http://example.org/> .\n",
    "ex:Alice a ex:Person ; ex:name \"Alice\" ; ex:age 33 .\n",
    "ex:Bob a ex:Person ; ex:name \"Bob\" ; ex:age 200 .\n",
    "'''\n",
    "shapes = '''\n",
    "@prefix sh: <http://www.w3.org/ns/shacl#> .\n",
    "@prefix ex: <http://example.org/> .\n",
    "ex:PersonShape a sh:NodeShape ;\n",
    "  sh:targetClass ex:Person ;\n",
    "  sh:property [\n",
    "    sh:path ex:age ; sh:maxInclusive 130 ;\n",
    "  ] .\n",
    "'''\n",
    "\n",
    "g_data = Graph().parse(data=data, format=\"turtle\")\n",
    "g_shapes = Graph().parse(data=shapes, format=\"turtle\")\n",
    "conforms, results_graph, results_text = validate(g_data, shacl_graph=g_shapes)\n",
    "print(\"Konform?\", conforms)\n",
    "print(results_text)\n",
    "```\n",
    "Tipp: pySHACL kann als CLI-Tool oder als Python-Modul verwendet werden."
   ]
  },
  {
   "cell_type": "markdown",
   "metadata": {},
   "source": [
    "## Ressourcen\n",
    "- [SHACL – W3C Recommendation](https://www.w3.org/TR/shacl/)\n",
    "- [pySHACL Python Tool](https://github.com/RDFLib/pySHACL)\n",
    "- [SHACL Playground (online)](https://shacl-play.sparna.fr/playground/)\n"
   ]
  }
 ],
 "metadata": {
  "kernelspec": {
   "display_name": "Python 3",
   "language": "python",
   "name": "python3"
  },
  "language_info": {
   "name": "python",
   "version": ""
  }
 },
 "nbformat": 4,
 "nbformat_minor": 2
}

