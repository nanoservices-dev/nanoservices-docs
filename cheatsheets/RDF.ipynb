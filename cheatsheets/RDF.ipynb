{
 "cells": [
  {
   "cell_type": "markdown",
   "metadata": {},
   "source": [
    "# 🧩 RDF Cheat-Sheet\n",
    "\n",
    "Grundkonzepte, Notation und Beispiele für Resource Description Framework (RDF)."
   ]
  },
  {
   "cell_type": "markdown",
   "metadata": {},
   "source": [
    "## Was ist RDF?\n",
    "- Standard zum Beschreiben von Wissen als \"Tripel\" (Subjekt, Prädikat, Objekt)\n",
    "- Grundlage für Linked Data, Semantic Web, Graphdatenbanken"
   ]
  },
  {
   "cell_type": "markdown",
   "metadata": {},
   "source": [
    "## RDF-Grundstruktur (Tripel)\n",
    "• **Subjekt** — Wer/Was?\n",
    "• **Prädikat** — Was für eine Beziehung/Eigenschaft?\n",
    "• **Objekt** — Zu wem/was? Oder: Welcher Wert?\n",
    "\n",
    "**Beispiel:**\n",
    "> Alice  --  kennt  -->  Bob"
   ]
  },
  {
   "cell_type": "markdown",
   "metadata": {},
   "source": [
    "## RDF in verschiedenen Notationen\n",
    "\n",
    "### 1. RDF/XML\n",
    "```xml\n",
    "<rdf:RDF xmlns:ex=\"http://example.org/\">\n",
    "  <rdf:Description rdf:about=\"http://example.org/Alice\">\n",
    "    <ex:knows rdf:resource=\"http://example.org/Bob\"/>\n",
    "  </rdf:Description>\n",
    "</rdf:RDF>\n",
    "```\n",
    "\n",
    "### 2. Turtle\n",
    "```turtle\n",
    "@prefix ex: <http://example.org/> .\n",
    "ex:Alice ex:knows ex:Bob .\n",
    "```\n",
    "\n",
    "### 3. JSON-LD\n",
    "```json\n",
    "{\n",
    "  \"@context\": { \"ex\": \"http://example.org/\" },\n",
    "  \"@id\": \"ex:Alice\",\n",
    "  \"ex:knows\": { \"@id\": \"ex:Bob\" }\n",
    "}\n",
    "```"
   ]
  },
  {
   "cell_type": "markdown",
   "metadata": {},
   "source": [
    "## Häufige RDF-Prädikate (Properties)\n",
    "- `rdf:type` — Typ einer Resource (z. B. `ex:Alice a ex:Person .`)\n",
    "- `rdfs:label` — Name/Label einer Resource\n",
    "- `rdfs:comment` — Beschreibung/Kommentar\n",
    "- Eigene Properties: alles mit Präfix wie `ex:knows`, `ex:age`, ...\n"
   ]
  },
  {
   "cell_type": "markdown",
   "metadata": {},
   "source": [
    "## Literale\n",
    "- Werte wie Zahlen, Strings, Datumsangaben\n",
    "- Mit oder ohne Datentyp/Sprachangabe\n",
    "\n",
    "```turtle\n",
    "ex:Bob ex:age 42 ;\n",
    "       ex:email \"bob@example.org\" ;\n",
    "       ex:label \"Mitarbeiter\"@de .\n",
    "```"
   ]
  },
  {
   "cell_type": "markdown",
   "metadata": {},
   "source": [
    "## RDF lesen/parsen in Python (rdflib)\n",
    "```python\n",
    "from rdflib import Graph\n",
    "g = Graph()\n",
    "rdf_data = '''\n",
    "@prefix ex: <http://example.org/> .\n",
    "ex:Alice ex:knows ex:Bob .\n",
    "'''\n",
    "g.parse(data=rdf_data, format=\"turtle\")\n",
    "for s, p, o in g:\n",
    "    print(s, p, o)\n",
    "```"
   ]
  },
  {
   "cell_type": "markdown",
   "metadata": {},
   "source": [
    "## Ressourcen\n",
    "- [RDF 1.1 – W3C Recommendation](https://www.w3.org/TR/rdf11-concepts/)\n",
    "- [Linked Data Glossary](https://www.w3.org/TR/ld-glossary/)\n",
    "- [RDF Validator (online testen)](https://www.w3.org/RDF/Validator/)\n"
   ]
  }
 ],
 "metadata": {
  "kernelspec": {
   "display_name": "Python 3",
   "language": "python",
   "name": "python3"
  },
  "language_info": {
   "name": "python",
   "version": ""
  }
 },
 "nbformat": 4,
 "nbformat_minor": 2
}
